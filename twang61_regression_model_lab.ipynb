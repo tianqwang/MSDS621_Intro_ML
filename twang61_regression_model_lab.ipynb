{
 "cells": [
  {
   "cell_type": "markdown",
   "metadata": {
    "deletable": false,
    "editable": false,
    "nbgrader": {
     "checksum": "d82fd9225fbc7d0edd6d594cfae11450",
     "grade": false,
     "grade_id": "cell-588eb434a3567ee2",
     "locked": true,
     "schema_version": 1,
     "solution": false
    }
   },
   "source": [
    "Lab: Regression with OLS Linear Regression and Random Forest™ \n",
    "===="
   ]
  },
  {
   "cell_type": "markdown",
   "metadata": {
    "deletable": false,
    "editable": false,
    "nbgrader": {
     "checksum": "6ad46d65ff517357d7592dde62f67089",
     "grade": false,
     "grade_id": "cell-5cc85b93d38670f4",
     "locked": true,
     "schema_version": 1,
     "solution": false
    }
   },
   "source": [
    "By The End Of This Lab You Should Be Able To:\n",
    "----\n",
    "\n",
    "- Fit a variety of regression models to a dataset\n",
    "- Grid Search to find best regression model"
   ]
  },
  {
   "cell_type": "markdown",
   "metadata": {
    "deletable": false,
    "editable": false,
    "nbgrader": {
     "checksum": "54ae58c186eb9972f227553e3cd717b3",
     "grade": false,
     "grade_id": "cell-097e33c5a845c288",
     "locked": true,
     "schema_version": 1,
     "solution": false
    }
   },
   "source": [
    "Load dataset\n",
    "------"
   ]
  },
  {
   "cell_type": "code",
   "execution_count": 2,
   "metadata": {
    "deletable": false,
    "editable": false,
    "nbgrader": {
     "checksum": "89568de670d8936b162de23fc95062ad",
     "grade": false,
     "grade_id": "cell-b3989d3eb2c9086b",
     "locked": true,
     "schema_version": 1,
     "solution": false
    }
   },
   "outputs": [],
   "source": [
    "reset -fs"
   ]
  },
  {
   "cell_type": "code",
   "execution_count": 3,
   "metadata": {
    "deletable": false,
    "editable": false,
    "nbgrader": {
     "checksum": "281cbb91afc16eb05a052f3b92c9acd7",
     "grade": false,
     "grade_id": "cell-e98307ceebf48695",
     "locked": true,
     "schema_version": 1,
     "solution": false
    }
   },
   "outputs": [],
   "source": [
    "import matplotlib.pyplot as plt\n",
    "import numpy as np\n",
    "import pandas as pd\n",
    "import seaborn as sns\n",
    "import sklearn\n",
    "\n",
    "import warnings\n",
    "warnings.filterwarnings('ignore')\n",
    "\n",
    "palette = \"Dark2\"\n",
    "%matplotlib inline"
   ]
  },
  {
   "cell_type": "markdown",
   "metadata": {
    "deletable": false,
    "editable": false,
    "nbgrader": {
     "checksum": "bd61c45d76942fed08380918a6e99101",
     "grade": false,
     "grade_id": "cell-d89c48480247256d",
     "locked": true,
     "schema_version": 1,
     "solution": false
    }
   },
   "source": [
    "We are going to model the California housing dataset.\n",
    "\n",
    "Learn more [here](https://scikit-learn.org/stable/modules/generated/sklearn.datasets.fetch_california_housing.html)"
   ]
  },
  {
   "cell_type": "code",
   "execution_count": 4,
   "metadata": {
    "deletable": false,
    "editable": false,
    "nbgrader": {
     "checksum": "d7b4f5cd64604fe4c0084b9fd2a15747",
     "grade": false,
     "grade_id": "cell-9a749e5acd1298e2",
     "locked": true,
     "schema_version": 1,
     "solution": false
    }
   },
   "outputs": [],
   "source": [
    "from sklearn.datasets import fetch_california_housing"
   ]
  },
  {
   "cell_type": "code",
   "execution_count": 5,
   "metadata": {
    "deletable": false,
    "editable": false,
    "nbgrader": {
     "checksum": "2b4e67775e89771f5d8476c6ddfd4dcc",
     "grade": false,
     "grade_id": "cell-1ec002f4a6f0b173",
     "locked": true,
     "schema_version": 1,
     "solution": false
    }
   },
   "outputs": [],
   "source": [
    "data = fetch_california_housing()\n",
    "\n",
    "X = data.data\n",
    "y = data.target"
   ]
  },
  {
   "cell_type": "code",
   "execution_count": 6,
   "metadata": {
    "deletable": false,
    "editable": false,
    "nbgrader": {
     "checksum": "d856822bcb1416d94642e4f451791c0c",
     "grade": false,
     "grade_id": "cell-cea69eb469ee7101",
     "locked": true,
     "schema_version": 1,
     "solution": false
    }
   },
   "outputs": [],
   "source": [
    "from sklearn.model_selection import train_test_split\n",
    "\n",
    "# Load and split the data\n",
    "X_train, X_test, y_train, y_test = train_test_split(X, y, test_size=0.3, random_state=42)"
   ]
  },
  {
   "cell_type": "markdown",
   "metadata": {
    "deletable": false,
    "editable": false,
    "nbgrader": {
     "checksum": "0cdbb12c6e22ef27e8aee5e5b98ae394",
     "grade": false,
     "grade_id": "cell-58fb1fa9cef3d920",
     "locked": true,
     "schema_version": 1,
     "solution": false
    }
   },
   "source": [
    "Fit OLS Linear Regression\n",
    "----"
   ]
  },
  {
   "cell_type": "code",
   "execution_count": 7,
   "metadata": {
    "deletable": false,
    "nbgrader": {
     "checksum": "b72d5d8ad0fed8b615f6701c3a959fd9",
     "grade": false,
     "grade_id": "cell-cde8892f83c112ac",
     "locked": false,
     "schema_version": 1,
     "solution": true
    }
   },
   "outputs": [
    {
     "name": "stdout",
     "output_type": "stream",
     "text": [
      "0.596\n"
     ]
    }
   ],
   "source": [
    "\"\"\"\n",
    "Fit a LinearRegression with default hyperparamters to train data. Find R^2 on test data.\n",
    "\n",
    "NOTE: Just write code in this cell. Do not create a function.\n",
    "\"\"\"\n",
    "from sklearn.linear_model import LinearRegression\n",
    "lr = LinearRegression()\n",
    "lr.fit(X_train, y_train)\n",
    "lr_housing_r2 = lr.score(X_test, y_test)\n",
    "# YOUR CODE HERE\n",
    "# raise NotImplementedError()\n",
    "\n",
    "print(f\"{lr_housing_r2:,.3f}\")"
   ]
  },
  {
   "cell_type": "code",
   "execution_count": 8,
   "metadata": {
    "deletable": false,
    "editable": false,
    "nbgrader": {
     "checksum": "5233f4072f7b9803496d61c021d03119",
     "grade": true,
     "grade_id": "cell-be8a34383a4857ce",
     "locked": true,
     "points": 2,
     "schema_version": 1,
     "solution": false
    }
   },
   "outputs": [],
   "source": [
    "\"\"\"\n",
    "2 points\n",
    "Test code for the cell above.\n",
    "This cell should NOT give any errors when it is run.\n",
    "\"\"\"\n",
    "\n",
    "from math import isclose\n",
    "\n",
    "assert isclose(lr_housing_r2, 0.595770232606166)"
   ]
  },
  {
   "cell_type": "markdown",
   "metadata": {
    "deletable": false,
    "editable": false,
    "nbgrader": {
     "checksum": "f6945d6f831610b7fa79ae4b2919a974",
     "grade": false,
     "grade_id": "cell-58fb1fa9cef3dd920",
     "locked": true,
     "schema_version": 1,
     "solution": false
    }
   },
   "source": [
    "Fit RandomForestRegressor\n",
    "----"
   ]
  },
  {
   "cell_type": "code",
   "execution_count": 9,
   "metadata": {
    "deletable": false,
    "nbgrader": {
     "checksum": "93cd8cf0b6f80af126be825607f63b50",
     "grade": false,
     "grade_id": "cell-664ed1ccd2613e44",
     "locked": false,
     "schema_version": 1,
     "solution": true
    }
   },
   "outputs": [
    {
     "name": "stdout",
     "output_type": "stream",
     "text": [
      "0.785\n"
     ]
    }
   ],
   "source": [
    "\"\"\"\n",
    "Fit a RandomForestRegressor with default hyperparamters to train data. Find R^2 on test data.\n",
    "As always, if an algorithm takes random_state, set it equal to random_state=42.\n",
    "\n",
    "NOTE: Just write code in this cell. Do not create a function.\n",
    "\"\"\"\n",
    "\n",
    "# YOUR CODE HERE\n",
    "# raise NotImplementedError()\n",
    "from sklearn.ensemble import RandomForestRegressor\n",
    "rf = RandomForestRegressor(random_state=42)\n",
    "rf.fit(X_train, y_train)\n",
    "rf_housing_rf = rf.score(X_test, y_test)\n",
    "print(f\"{rf_housing_rf:,.3f}\")"
   ]
  },
  {
   "cell_type": "code",
   "execution_count": 10,
   "metadata": {
    "deletable": false,
    "editable": false,
    "nbgrader": {
     "checksum": "07f498fbf9c11799e27fe3e75b2b7792",
     "grade": true,
     "grade_id": "cell-349eb9455f68a1af",
     "locked": true,
     "points": 2,
     "schema_version": 1,
     "solution": false
    }
   },
   "outputs": [],
   "source": [
    "\"\"\"\n",
    "2 points\n",
    "Test code for the cell above.\n",
    "This cell should NOT give any errors when it is run.\n",
    "\"\"\"\n",
    "\n",
    "from math import isclose\n",
    "\n",
    "assert isclose(rf_housing_rf, 0.7854818862899284)"
   ]
  },
  {
   "cell_type": "markdown",
   "metadata": {
    "deletable": false,
    "editable": false,
    "nbgrader": {
     "checksum": "060f392f1f04eeac303eaef26798a516",
     "grade": false,
     "grade_id": "cell-a4913255e48d56ab",
     "locked": true,
     "schema_version": 1,
     "solution": false
    }
   },
   "source": [
    "Random Forest™ is doing much better on this dataset than Linear Regression.\n",
    "\n",
    "Let's see if we can improve Linear Regression with Grid Search."
   ]
  },
  {
   "cell_type": "code",
   "execution_count": 62,
   "metadata": {
    "deletable": false,
    "nbgrader": {
     "checksum": "cd4217e59b0cef7e6955c69e7b31bbc7",
     "grade": false,
     "grade_id": "cell-f072612fb6114830",
     "locked": false,
     "schema_version": 1,
     "solution": true
    }
   },
   "outputs": [],
   "source": [
    "\"\"\"\n",
    "Write code to conduct Grid Search on Linear Regression, Lasso, Ridge, and ElasticNet Regression.\n",
    "In order words, systematically explore the hyperparamters of the algorithms to find the best set of hyperparamters.\n",
    "\n",
    "Your code should take less 1 minute to run inorder for the autograder not to time out.\n",
    "\n",
    "At the end, return the best fitted model as `best_model`. \n",
    "It will be in {'LinearRegression', 'RandomForestRegressor', 'Lasso', 'Ridge', 'ElasticNet'}.\n",
    "\n",
    "NOTE: Just write code in this cell. Do not create a function.\n",
    "\"\"\"\n",
    "from sklearn.model_selection import GridSearchCV\n",
    "from sklearn.linear_model import LassoCV\n",
    "from sklearn.linear_model import RidgeCV\n",
    "from sklearn.linear_model import Ridge\n",
    "import numpy as np\n",
    "\n",
    "best_model = RandomForestRegressor()\n",
    "best_model.fit(X_train, y_train)\n",
    "# Grid search ridge model\n",
    "params = dict(alpha = range(1,100,5))\n",
    "gs = GridSearchCV(estimator = Ridge(),\n",
    "                  param_grid=params,\n",
    "                  scoring= 'r2')\n",
    "gs.fit(X_train, y_train)\n",
    "\n",
    "if gs.score(X_test, y_test)>best_model.score(X_test, y_test):\n",
    "    best_model=gs.best_estimator_\n",
    "    \n",
    "# Grid search Lasso model    \n",
    "params = dict(n_alphas=np.linspace(start=50,stop=150,num=50))\n",
    "gs = GridSearchCV(estimator = LassoCV(random_state=42),\n",
    "                  param_grid=params,\n",
    "                  scoring= 'r2')\n",
    "gs.fit(X_train, y_train)\n",
    "if gs.score(X_test, y_test)>best_model.score(X_test, y_test):\n",
    "    best_model=gs.best_estimator_\n",
    "\n",
    "#Grid search OLS model    \n",
    "params = dict(fit_intercept = ['True', 'False'],\n",
    "              normalize = ['True', 'False'])\n",
    "gs = GridSearchCV(estimator = LinearRegression(),\n",
    "                  param_grid=params,\n",
    "                  scoring= 'r2')\n",
    "gs.fit(X_train, y_train)\n",
    "\n",
    "if gs.score(X_test, y_test)>best_model.score(X_test, y_test):\n",
    "    best_model=gs.best_estimator_\n",
    "# YOUR CODE HERE\n",
    "# raise NotImplementedError()"
   ]
  },
  {
   "cell_type": "code",
   "execution_count": 63,
   "metadata": {
    "deletable": false,
    "editable": false,
    "nbgrader": {
     "checksum": "502e98eb2058a70a1be440ce541e2dee",
     "grade": true,
     "grade_id": "cell-0bd95a2dc51f612f",
     "locked": true,
     "points": 5,
     "schema_version": 1,
     "solution": false
    }
   },
   "outputs": [],
   "source": [
    "\"\"\"\n",
    "5 points\n",
    "Test code for the cell above.\n",
    "There are hidden tests. They will make sure `best_model` is the class\n",
    "This cell should NOT give any errors when it is run.\n",
    "\"\"\"\n",
    "\n",
    "possible_algos = {'LinearRegression', 'RandomForestRegressor', 'Lasso', 'Ridge', 'ElasticNet'}\n",
    "assert best_model.__class__.__name__.split('.')[-1] in possible_algos\n",
    "assert str(type(best_model))[:16] == \"<class 'sklearn.\"\n",
    "assert best_model.score(X_test, y_test) > .725\n"
   ]
  },
  {
   "cell_type": "markdown",
   "metadata": {
    "deletable": false,
    "editable": false,
    "nbgrader": {
     "checksum": "09a2aa8aba527974e6dca328efeb0bce",
     "grade": false,
     "grade_id": "cell-ff2d070e25115ec4",
     "locked": true,
     "schema_version": 1,
     "solution": false
    }
   },
   "source": [
    "<br>\n",
    "<br> \n",
    "<br>\n",
    "\n",
    "----"
   ]
  }
 ],
 "metadata": {
  "anaconda-cloud": {},
  "kernelspec": {
   "display_name": "Python 3",
   "language": "python",
   "name": "python3"
  },
  "language_info": {
   "codemirror_mode": {
    "name": "ipython",
    "version": 3
   },
   "file_extension": ".py",
   "mimetype": "text/x-python",
   "name": "python",
   "nbconvert_exporter": "python",
   "pygments_lexer": "ipython3",
   "version": "3.6.4"
  }
 },
 "nbformat": 4,
 "nbformat_minor": 1
}
