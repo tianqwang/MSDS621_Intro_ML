{
 "cells": [
  {
   "cell_type": "markdown",
   "metadata": {
    "deletable": false,
    "editable": false,
    "nbgrader": {
     "checksum": "63b40f2e5b07f843d3b1303e20579b09",
     "grade": false,
     "grade_id": "cell-588eb434a3567ee2",
     "locked": true,
     "schema_version": 1,
     "solution": false
    }
   },
   "source": [
    "Lab: k-nearest neighbors (k-NN) with scikit-learn\n",
    "==="
   ]
  },
  {
   "cell_type": "markdown",
   "metadata": {
    "deletable": false,
    "editable": false,
    "nbgrader": {
     "checksum": "fee2599f6362874026a0722a1e11cc24",
     "grade": false,
     "grade_id": "cell-5cc85b93d38670f4",
     "locked": true,
     "schema_version": 1,
     "solution": false
    }
   },
   "source": [
    "By The End Of This Session You Should Be Able To:\n",
    "----\n",
    "\n",
    "- Visually interpret data\n",
    "- Fit KNN model with scikit-learn\n",
    "- Explain how features effects modeling\n",
    "- Explain how changing the number of neighbors effects modeling"
   ]
  },
  {
   "cell_type": "code",
   "execution_count": 1,
   "metadata": {
    "deletable": false,
    "editable": false,
    "nbgrader": {
     "checksum": "71a1725165e6089dffff17873e35bbf7",
     "grade": false,
     "grade_id": "cell-15cd187291b14aba",
     "locked": true,
     "schema_version": 1,
     "solution": false
    }
   },
   "outputs": [],
   "source": [
    "reset -fs"
   ]
  },
  {
   "cell_type": "code",
   "execution_count": 2,
   "metadata": {
    "deletable": false,
    "editable": false,
    "nbgrader": {
     "checksum": "050c558f3a6111b4c2d8d2787f91d5fa",
     "grade": false,
     "grade_id": "cell-c680f108d648030e",
     "locked": true,
     "schema_version": 1,
     "solution": false
    }
   },
   "outputs": [],
   "source": [
    "import matplotlib.pyplot as plt\n",
    "import numpy as np\n",
    "import pandas as pd\n",
    "import seaborn as sns\n",
    "import sklearn\n",
    "\n",
    "import warnings\n",
    "warnings.filterwarnings('ignore')\n",
    "\n",
    "palette = \"Dark2\"\n",
    "%matplotlib inline"
   ]
  },
  {
   "cell_type": "markdown",
   "metadata": {
    "deletable": false,
    "editable": false,
    "nbgrader": {
     "checksum": "745d9324ca9c52bbc307f73f565fece0",
     "grade": false,
     "grade_id": "cell-88cacb6c7b8a5b37",
     "locked": true,
     "schema_version": 1,
     "solution": false
    }
   },
   "source": [
    "Iris Data\n",
    "-----\n",
    "\n",
    "<center><img src=\"http://s5047.pcdn.co/wp-content/uploads/2015/04/iris_petal_sepal.png\" width=\"75%\"/></center>"
   ]
  },
  {
   "cell_type": "code",
   "execution_count": 3,
   "metadata": {
    "deletable": false,
    "editable": false,
    "nbgrader": {
     "checksum": "d9cebef58d4578b37299b8f92fa5eb54",
     "grade": false,
     "grade_id": "cell-47ca072821ac2e94",
     "locked": true,
     "schema_version": 1,
     "solution": false
    }
   },
   "outputs": [
    {
     "data": {
      "text/html": [
       "<div>\n",
       "<style scoped>\n",
       "    .dataframe tbody tr th:only-of-type {\n",
       "        vertical-align: middle;\n",
       "    }\n",
       "\n",
       "    .dataframe tbody tr th {\n",
       "        vertical-align: top;\n",
       "    }\n",
       "\n",
       "    .dataframe thead th {\n",
       "        text-align: right;\n",
       "    }\n",
       "</style>\n",
       "<table border=\"1\" class=\"dataframe\">\n",
       "  <thead>\n",
       "    <tr style=\"text-align: right;\">\n",
       "      <th></th>\n",
       "      <th>sepal_length</th>\n",
       "      <th>sepal_width</th>\n",
       "      <th>petal_length</th>\n",
       "      <th>petal_width</th>\n",
       "      <th>species</th>\n",
       "    </tr>\n",
       "  </thead>\n",
       "  <tbody>\n",
       "    <tr>\n",
       "      <th>0</th>\n",
       "      <td>5.1</td>\n",
       "      <td>3.5</td>\n",
       "      <td>1.4</td>\n",
       "      <td>0.2</td>\n",
       "      <td>setosa</td>\n",
       "    </tr>\n",
       "    <tr>\n",
       "      <th>1</th>\n",
       "      <td>4.9</td>\n",
       "      <td>3.0</td>\n",
       "      <td>1.4</td>\n",
       "      <td>0.2</td>\n",
       "      <td>setosa</td>\n",
       "    </tr>\n",
       "    <tr>\n",
       "      <th>2</th>\n",
       "      <td>4.7</td>\n",
       "      <td>3.2</td>\n",
       "      <td>1.3</td>\n",
       "      <td>0.2</td>\n",
       "      <td>setosa</td>\n",
       "    </tr>\n",
       "  </tbody>\n",
       "</table>\n",
       "</div>"
      ],
      "text/plain": [
       "   sepal_length  sepal_width  petal_length  petal_width species\n",
       "0           5.1          3.5           1.4          0.2  setosa\n",
       "1           4.9          3.0           1.4          0.2  setosa\n",
       "2           4.7          3.2           1.3          0.2  setosa"
      ]
     },
     "execution_count": 3,
     "metadata": {},
     "output_type": "execute_result"
    }
   ],
   "source": [
    "# Load data\n",
    "iris_sns = sns.load_dataset(\"iris\")\n",
    "iris_sns.head(n=3)"
   ]
  },
  {
   "cell_type": "code",
   "execution_count": 4,
   "metadata": {
    "deletable": false,
    "editable": false,
    "nbgrader": {
     "checksum": "2a0ce2355bf031f17edd1eda891984e1",
     "grade": false,
     "grade_id": "cell-ba2e3720ccc30c1d",
     "locked": true,
     "schema_version": 1,
     "solution": false
    }
   },
   "outputs": [
    {
     "data": {
      "text/html": [
       "<div>\n",
       "<style scoped>\n",
       "    .dataframe tbody tr th:only-of-type {\n",
       "        vertical-align: middle;\n",
       "    }\n",
       "\n",
       "    .dataframe tbody tr th {\n",
       "        vertical-align: top;\n",
       "    }\n",
       "\n",
       "    .dataframe thead th {\n",
       "        text-align: right;\n",
       "    }\n",
       "</style>\n",
       "<table border=\"1\" class=\"dataframe\">\n",
       "  <thead>\n",
       "    <tr style=\"text-align: right;\">\n",
       "      <th></th>\n",
       "      <th>sepal_length</th>\n",
       "      <th>sepal_width</th>\n",
       "      <th>petal_length</th>\n",
       "      <th>petal_width</th>\n",
       "      <th>species</th>\n",
       "    </tr>\n",
       "  </thead>\n",
       "  <tbody>\n",
       "    <tr>\n",
       "      <th>147</th>\n",
       "      <td>6.5</td>\n",
       "      <td>3.0</td>\n",
       "      <td>5.2</td>\n",
       "      <td>2.0</td>\n",
       "      <td>virginica</td>\n",
       "    </tr>\n",
       "    <tr>\n",
       "      <th>148</th>\n",
       "      <td>6.2</td>\n",
       "      <td>3.4</td>\n",
       "      <td>5.4</td>\n",
       "      <td>2.3</td>\n",
       "      <td>virginica</td>\n",
       "    </tr>\n",
       "    <tr>\n",
       "      <th>149</th>\n",
       "      <td>5.9</td>\n",
       "      <td>3.0</td>\n",
       "      <td>5.1</td>\n",
       "      <td>1.8</td>\n",
       "      <td>virginica</td>\n",
       "    </tr>\n",
       "  </tbody>\n",
       "</table>\n",
       "</div>"
      ],
      "text/plain": [
       "     sepal_length  sepal_width  petal_length  petal_width    species\n",
       "147           6.5          3.0           5.2          2.0  virginica\n",
       "148           6.2          3.4           5.4          2.3  virginica\n",
       "149           5.9          3.0           5.1          1.8  virginica"
      ]
     },
     "execution_count": 4,
     "metadata": {},
     "output_type": "execute_result"
    }
   ],
   "source": [
    "# Always a good habit to manually inspect the tail\n",
    "iris_sns.tail(n=3)"
   ]
  },
  {
   "cell_type": "code",
   "execution_count": 5,
   "metadata": {
    "deletable": false,
    "editable": false,
    "nbgrader": {
     "checksum": "4cfbd739a823c8e532b43105f116ae21",
     "grade": false,
     "grade_id": "cell-a2d9c0820b683880",
     "locked": true,
     "schema_version": 1,
     "solution": false
    }
   },
   "outputs": [
    {
     "data": {
      "image/png": "[encoded data removed]",
      "text/plain": [
       "<Figure size 804.75x720 with 20 Axes>"
      ]
     },
     "metadata": {
      "needs_background": "light"
     },
     "output_type": "display_data"
    }
   ],
   "source": [
    "# Pretty plot\n",
    "sns.pairplot(iris_sns, hue='species', size=2.5, palette=palette);"
   ]
  },
  {
   "cell_type": "markdown",
   "metadata": {
    "deletable": false,
    "editable": false,
    "nbgrader": {
     "checksum": "ec8253b4b248bca05d9fd7f14352bc15",
     "grade": false,
     "grade_id": "cell-715286763a89eb4d",
     "locked": true,
     "schema_version": 1,
     "solution": false
    }
   },
   "source": [
    "Which two dimensions would provide for the __best__ seperation between the three classes?"
   ]
  },
  {
   "cell_type": "markdown",
   "metadata": {
    "deletable": false,
    "editable": false,
    "nbgrader": {
     "checksum": "8edea1b30b05b1b1193c67d7aadd4972",
     "grade": false,
     "grade_id": "cell-634406d923d349f6",
     "locked": true,
     "schema_version": 1,
     "solution": false
    }
   },
   "source": [
    "<details><summary>\n",
    "Click here for the solution…\n",
    "</summary>\n",
    "petal_length  and petal_width \n",
    "</details>"
   ]
  },
  {
   "cell_type": "markdown",
   "metadata": {
    "deletable": false,
    "editable": false,
    "nbgrader": {
     "checksum": "b177b022335a19618c5ab3371ba3658c",
     "grade": false,
     "grade_id": "cell-cf36bdda79aa7e74",
     "locked": true,
     "schema_version": 1,
     "solution": false
    }
   },
   "source": [
    "Which two dimensions would provide for the __worst__ seperation between the three classes?"
   ]
  },
  {
   "cell_type": "markdown",
   "metadata": {
    "deletable": false,
    "editable": false,
    "nbgrader": {
     "checksum": "87adecd279e777e525ef5d970284d8d3",
     "grade": false,
     "grade_id": "cell-2a3b5c7809be7533",
     "locked": true,
     "schema_version": 1,
     "solution": false
    }
   },
   "source": [
    "<details><summary>\n",
    "Click here for the solution…\n",
    "</summary>\n",
    "sepal_length and sepal_width\n",
    "</details>"
   ]
  },
  {
   "cell_type": "markdown",
   "metadata": {
    "deletable": false,
    "editable": false,
    "nbgrader": {
     "checksum": "d8d95577aae4a70364e4834093c4afb6",
     "grade": false,
     "grade_id": "cell-97d95cef2a7811a2",
     "locked": true,
     "schema_version": 1,
     "solution": false
    }
   },
   "source": [
    "-----\n",
    "Modeling\n",
    "-----\n",
    "\n",
    "We are going to take a model comparison approach in the class.\n",
    "\n",
    "First, we are going to fit baseline model. Then try to improve the models from there. We might also make things worse."
   ]
  },
  {
   "cell_type": "code",
   "execution_count": 6,
   "metadata": {
    "deletable": false,
    "editable": false,
    "nbgrader": {
     "checksum": "15a75c3545f2bf7c4d442ebd10341e66",
     "grade": false,
     "grade_id": "cell-cefcde017ca35c2f",
     "locked": true,
     "schema_version": 1,
     "solution": false
    }
   },
   "outputs": [],
   "source": [
    "# Load data for modeling\n",
    "from sklearn.datasets import load_iris\n",
    "\n",
    "iris = load_iris()"
   ]
  },
  {
   "cell_type": "code",
   "execution_count": 7,
   "metadata": {
    "deletable": false,
    "editable": false,
    "nbgrader": {
     "checksum": "e05baa464280cc620d64ca41d0a77b60",
     "grade": false,
     "grade_id": "cell-4aa4a6701baa9961",
     "locked": true,
     "schema_version": 1,
     "solution": false
    }
   },
   "outputs": [
    {
     "data": {
      "text/plain": [
       "dict_keys(['data', 'target', 'target_names', 'DESCR', 'feature_names', 'filename'])"
      ]
     },
     "execution_count": 7,
     "metadata": {},
     "output_type": "execute_result"
    }
   ],
   "source": [
    "# scikit-learn datasets are dicts\n",
    "iris.keys()"
   ]
  },
  {
   "cell_type": "code",
   "execution_count": 8,
   "metadata": {
    "deletable": false,
    "editable": false,
    "nbgrader": {
     "checksum": "a0b8ba3940be0324db2bf2971b0f0c21",
     "grade": false,
     "grade_id": "cell-3e739bb9e78dd5e8",
     "locked": true,
     "schema_version": 1,
     "solution": false
    }
   },
   "outputs": [
    {
     "name": "stdout",
     "output_type": "stream",
     "text": [
      ".. _iris_dataset:\n",
      "\n",
      "Iris plants dataset\n",
      "--------------------\n",
      "\n",
      "**Data Set Characteristics:**\n",
      "\n",
      "    :Number of Instances: 150 (50 in each of three classes)\n",
      "    :Number of Attributes: 4 numeric, predictive attributes and the class\n",
      "    :Attribute Information:\n",
      "        - sepal length in cm\n",
      "        - sepal width in cm\n",
      "        - petal length in cm\n",
      "        - petal width in cm\n",
      "        - class:\n",
      "                - Iris-Setosa\n",
      "                - Iris-Versicolour\n",
      "                - Iris-Virginica\n",
      "                \n",
      "    :Summary Statistics:\n",
      "\n",
      "    ============== ==== ==== ======= ===== ====================\n",
      "                    Min  Max   Mean    SD   Class Correlation\n",
      "    ============== ==== ==== ======= ===== ====================\n",
      "    sepal length:   4.3  7.9   5.84   0.83    0.7826\n",
      "    sepal width:    2.0  4.4   3.05   0.43   -0.4194\n",
      "    petal length:   1.0  6.9   3.76   1.76    0.9490  (high!)\n",
      "    petal width:    0.1  2.5   1.20   0.76    0.9565  (high!)\n",
      "    ============== ==== ==== ======= ===== ====================\n",
      "\n",
      "    :Missing Attribute Values: None\n",
      "    :Class Distribution: 33.3% for each of 3 classes.\n",
      "    :Creator: R.A. Fisher\n",
      "    :Donor: Michael Marshall (MARSHALL%PLU@io.arc.nasa.gov)\n",
      "    :Date: July, 1988\n",
      "\n",
      "The famous Iris database, first used by Sir R.A. Fisher. The dataset is taken\n",
      "from Fisher's paper. Note that it's the same as in R, but not as in the UCI\n",
      "Machine Learning Repository, which has two wrong data points.\n",
      "\n",
      "This is perhaps the best known database to be found in the\n",
      "pattern recognition literature.  Fisher's paper is a classic in the field and\n",
      "is referenced frequently to this day.  (See Duda & Hart, for example.)  The\n",
      "data set contains 3 classes of 50 instances each, where each class refers to a\n",
      "type of iris plant.  One class is linearly separable from the other 2; the\n",
      "latter are NOT linearly separable from each other.\n",
      "\n",
      ".. topic:: References\n",
      "\n",
      "   - Fisher, R.A. \"The use of multiple measurements in taxonomic problems\"\n",
      "     Annual Eugenics, 7, Part II, 179-188 (1936); also in \"Contributions to\n",
      "     Mathematical Statistics\" (John Wiley, NY, 1950).\n",
      "   - Duda, R.O., & Hart, P.E. (1973) Pattern Classification and Scene Analysis.\n",
      "     (Q327.D83) John Wiley & Sons.  ISBN 0-471-22361-1.  See page 218.\n",
      "   - Dasarathy, B.V. (1980) \"Nosing Around the Neighborhood: A New System\n",
      "     Structure and Classification Rule for Recognition in Partially Exposed\n",
      "     Environments\".  IEEE Transactions on Pattern Analysis and Machine\n",
      "     Intelligence, Vol. PAMI-2, No. 1, 67-71.\n",
      "   - Gates, G.W. (1972) \"The Reduced Nearest Neighbor Rule\".  IEEE Transactions\n",
      "     on Information Theory, May 1972, 431-433.\n",
      "   - See also: 1988 MLC Proceedings, 54-64.  Cheeseman et al\"s AUTOCLASS II\n",
      "     conceptual clustering system finds 3 classes in the data.\n",
      "   - Many, many more ...\n"
     ]
    }
   ],
   "source": [
    "print(iris.DESCR)"
   ]
  },
  {
   "cell_type": "code",
   "execution_count": 9,
   "metadata": {},
   "outputs": [
    {
     "data": {
      "text/plain": [
       "['DESCR', 'data', 'feature_names', 'filename', 'target', 'target_names']"
      ]
     },
     "execution_count": 9,
     "metadata": {},
     "output_type": "execute_result"
    }
   ],
   "source": [
    "dir(iris)"
   ]
  },
  {
   "cell_type": "code",
   "execution_count": 10,
   "metadata": {},
   "outputs": [
    {
     "data": {
      "text/plain": [
       "['sepal length (cm)',\n",
       " 'sepal width (cm)',\n",
       " 'petal length (cm)',\n",
       " 'petal width (cm)']"
      ]
     },
     "execution_count": 10,
     "metadata": {},
     "output_type": "execute_result"
    }
   ],
   "source": [
    "iris.feature_names"
   ]
  },
  {
   "cell_type": "code",
   "execution_count": 11,
   "metadata": {},
   "outputs": [],
   "source": [
    "mask = np.array([True, True, False, False])"
   ]
  },
  {
   "cell_type": "code",
   "execution_count": 12,
   "metadata": {
    "deletable": false,
    "nbgrader": {
     "checksum": "e27d44b0327ef0f94c95ed11f9f28ef3",
     "grade": false,
     "grade_id": "cell-d80194fc50e3b03b",
     "locked": false,
     "schema_version": 1,
     "solution": true
    }
   },
   "outputs": [],
   "source": [
    "def select_two_worst_features(iris: sklearn.utils.Bunch) -> np.array:\n",
    "    \"Select the two WORST features/columns from iris\"\n",
    "    # YOUR CODE HERE\n",
    "    mask = np.array([True, True, False, False])\n",
    "    return iris.data[:, mask]\n",
    "#     raise NotImplementedError()"
   ]
  },
  {
   "cell_type": "code",
   "execution_count": 13,
   "metadata": {
    "deletable": false,
    "editable": false,
    "nbgrader": {
     "checksum": "2b15df36196fb4f6ebff856f054190ce",
     "grade": true,
     "grade_id": "cell-7ff458e86e415763",
     "locked": true,
     "points": 1,
     "schema_version": 1,
     "solution": false
    }
   },
   "outputs": [],
   "source": [
    "\"\"\"\n",
    "1 point\n",
    "Test code for the 'select_two_worst_features' function. \n",
    "This cell should NOT give any errors when it is run.\n",
    "\"\"\"\n",
    "\n",
    "assert select_two_worst_features(iris).shape == (150, 2)\n",
    "assert list(select_two_worst_features(iris)[0]) == [5.1, 3.5]\n",
    "assert list(select_two_worst_features(iris)[-1]) == [5.9, 3. ]"
   ]
  },
  {
   "cell_type": "markdown",
   "metadata": {
    "deletable": false,
    "editable": false,
    "nbgrader": {
     "checksum": "87238a6f1bad68f3435b7f41533fac28",
     "grade": false,
     "grade_id": "cell-277193dc5e8256f2",
     "locked": true,
     "schema_version": 1,
     "solution": false
    }
   },
   "source": [
    "Let's check out the documention for [KNeighborsClassifier](http://scikit-learn.org/stable/modules/generated/sklearn.neighbors.KNeighborsClassifier.html)"
   ]
  },
  {
   "cell_type": "code",
   "execution_count": 14,
   "metadata": {
    "deletable": false,
    "editable": false,
    "nbgrader": {
     "checksum": "b9ade4ceee3075d1b66894ace5faf54b",
     "grade": false,
     "grade_id": "cell-8a9dcbcd4e913dfa",
     "locked": true,
     "schema_version": 1,
     "solution": false
    }
   },
   "outputs": [],
   "source": [
    "from sklearn.neighbors import KNeighborsClassifier"
   ]
  },
  {
   "cell_type": "code",
   "execution_count": 15,
   "metadata": {
    "deletable": false,
    "editable": false,
    "nbgrader": {
     "checksum": "83fc6fa677fd04d5fcc5bef0a046b33b",
     "grade": false,
     "grade_id": "cell-e8384f8c498f175c",
     "locked": true,
     "schema_version": 1,
     "solution": false
    }
   },
   "outputs": [],
   "source": [
    "# Create an instance of the model from the class\n",
    "knn = KNeighborsClassifier(n_neighbors=3)"
   ]
  },
  {
   "cell_type": "code",
   "execution_count": 16,
   "metadata": {
    "deletable": false,
    "editable": false,
    "nbgrader": {
     "checksum": "e2cff6f88fc7909c5842c84531027640",
     "grade": false,
     "grade_id": "cell-3a77e5ce7ac8a43b",
     "locked": true,
     "schema_version": 1,
     "solution": false
    }
   },
   "outputs": [
    {
     "data": {
      "text/plain": [
       "KNeighborsClassifier(algorithm='auto', leaf_size=30, metric='minkowski',\n",
       "           metric_params=None, n_jobs=None, n_neighbors=3, p=2,\n",
       "           weights='uniform')"
      ]
     },
     "execution_count": 16,
     "metadata": {},
     "output_type": "execute_result"
    }
   ],
   "source": [
    "# Define the input data and labels\n",
    "X = select_two_worst_features(iris)\n",
    "y = iris.target\n",
    "\n",
    "# Fit the model\n",
    "knn.fit(X, y)"
   ]
  },
  {
   "cell_type": "code",
   "execution_count": 17,
   "metadata": {
    "deletable": false,
    "editable": false,
    "nbgrader": {
     "checksum": "0749e13ec3aebf27941244323735636f",
     "grade": false,
     "grade_id": "cell-b45a6c75bdfd2422",
     "locked": true,
     "schema_version": 1,
     "solution": false
    }
   },
   "outputs": [
    {
     "data": {
      "text/plain": [
       "array([2])"
      ]
     },
     "execution_count": 17,
     "metadata": {},
     "output_type": "execute_result"
    }
   ],
   "source": [
    "# Predict a within sample datapoint\n",
    "i = 100 # Index could also be a random integer \n",
    "y_predicted = knn.predict(X[i].reshape(1, -1))\n",
    "y_predicted"
   ]
  },
  {
   "cell_type": "code",
   "execution_count": 18,
   "metadata": {
    "deletable": false,
    "editable": false,
    "nbgrader": {
     "checksum": "5b55ec4a6e146fcbb25123248a8caa59",
     "grade": false,
     "grade_id": "cell-20bbec86a4d30fa6",
     "locked": true,
     "schema_version": 1,
     "solution": false
    }
   },
   "outputs": [
    {
     "data": {
      "text/plain": [
       "2"
      ]
     },
     "execution_count": 18,
     "metadata": {},
     "output_type": "execute_result"
    }
   ],
   "source": [
    "y_actual = y[i]\n",
    "y_actual"
   ]
  },
  {
   "cell_type": "code",
   "execution_count": 19,
   "metadata": {
    "deletable": false,
    "editable": false,
    "nbgrader": {
     "checksum": "d88d5a4a7af0276053c47be1bb15e6b3",
     "grade": false,
     "grade_id": "cell-84852d074db1a264",
     "locked": true,
     "schema_version": 1,
     "solution": false
    }
   },
   "outputs": [
    {
     "data": {
      "image/png": "[encoded data removed]",
      "text/plain": [
       "<Figure size 432x288 with 1 Axes>"
      ]
     },
     "metadata": {
      "needs_background": "light"
     },
     "output_type": "display_data"
    }
   ],
   "source": [
    "# Pretty plot the selected data\n",
    "scatter = sns.scatterplot(x=X[:, 0],\n",
    "                          y=X[:, 1],\n",
    "                          hue=y,     #'hue' will color code each group\n",
    "                          palette=palette,\n",
    "                         );\n",
    "\n",
    "\n",
    "# Plot data point\n",
    "scatter.plot(X[i, 0], \n",
    "            X[i, 1], \n",
    "            color='red', \n",
    "            marker='*');"
   ]
  },
  {
   "cell_type": "markdown",
   "metadata": {
    "deletable": false,
    "editable": false,
    "nbgrader": {
     "checksum": "0fca61e2e0b88e26fe447966621a34e1",
     "grade": false,
     "grade_id": "cell-8391fb95ca6e26c5",
     "locked": true,
     "schema_version": 1,
     "solution": false
    }
   },
   "source": [
    "You have just fit your a model with sci-kit learn  💥"
   ]
  },
  {
   "cell_type": "code",
   "execution_count": 20,
   "metadata": {
    "deletable": false,
    "editable": false,
    "nbgrader": {
     "checksum": "c8f21a4e916f429036bc38c41ce8dbf2",
     "grade": false,
     "grade_id": "cell-fb47fae08081b57a",
     "locked": true,
     "schema_version": 1,
     "solution": false
    }
   },
   "outputs": [
    {
     "data": {
      "text/plain": [
       "array([1])"
      ]
     },
     "execution_count": 20,
     "metadata": {},
     "output_type": "execute_result"
    }
   ],
   "source": [
    "# Predict an out of sample datapoint\n",
    "noise = -.35 # Noise could also be a random float\n",
    "new_data = X[i].reshape(1, -1)+noise\n",
    "y_predicted = knn.predict(new_data)\n",
    "y_predicted"
   ]
  },
  {
   "cell_type": "code",
   "execution_count": 21,
   "metadata": {
    "deletable": false,
    "editable": false,
    "nbgrader": {
     "checksum": "a852a716b373b3fadc84003967a29ffe",
     "grade": false,
     "grade_id": "cell-d4ef53b19f765bf0",
     "locked": true,
     "schema_version": 1,
     "solution": false
    }
   },
   "outputs": [
    {
     "data": {
      "image/png": "[encoded data removed]",
      "text/plain": [
       "<Figure size 432x288 with 1 Axes>"
      ]
     },
     "metadata": {
      "needs_background": "light"
     },
     "output_type": "display_data"
    }
   ],
   "source": [
    "# Pretty plot the selected data\n",
    "scatter = sns.scatterplot(x=X[:, 0],\n",
    "                          y=X[:, 1],\n",
    "                          hue=y,     #'hue' will color code each group\n",
    "                          palette=palette,\n",
    "                         );\n",
    "\n",
    "\n",
    "# Plot data point\n",
    "scatter.plot(new_data[0][0], \n",
    "            new_data[0][1], \n",
    "            color='red', \n",
    "            marker='*');"
   ]
  },
  {
   "cell_type": "code",
   "execution_count": 22,
   "metadata": {
    "deletable": false,
    "editable": false,
    "nbgrader": {
     "checksum": "7c4a3367b44e1dd0b87f8d3b6fc0cd9c",
     "grade": false,
     "grade_id": "cell-ceeab20db385634d",
     "locked": true,
     "schema_version": 1,
     "solution": false
    }
   },
   "outputs": [],
   "source": [
    "# Predict the response for every within sample data\n",
    "# NOTE: We are not doing train / test split. Splitting the data is pointless with k NN because it just memorized the observed data.\n",
    "y_predicted = knn.predict(X)"
   ]
  },
  {
   "cell_type": "code",
   "execution_count": 23,
   "metadata": {
    "deletable": false,
    "editable": false,
    "nbgrader": {
     "checksum": "dc98155996b0fc42ea2b74f85efd5ce0",
     "grade": false,
     "grade_id": "cell-f9f356c8c368e59a",
     "locked": true,
     "schema_version": 1,
     "solution": false
    }
   },
   "outputs": [],
   "source": [
    "from sklearn.metrics import accuracy_score"
   ]
  },
  {
   "cell_type": "code",
   "execution_count": 24,
   "metadata": {
    "deletable": false,
    "editable": false,
    "nbgrader": {
     "checksum": "3861a231eaad69e7c91c6e6dbcf29c68",
     "grade": false,
     "grade_id": "cell-f5d868f24c042ef3",
     "locked": true,
     "schema_version": 1,
     "solution": false
    }
   },
   "outputs": [
    {
     "name": "stdout",
     "output_type": "stream",
     "text": [
      "Model accuracy 85.33%\n"
     ]
    }
   ],
   "source": [
    "accuracy = accuracy_score(y_predicted, y)\n",
    "print(f'Model accuracy {accuracy:.2%}')"
   ]
  },
  {
   "cell_type": "markdown",
   "metadata": {
    "deletable": false,
    "editable": false,
    "nbgrader": {
     "checksum": "a76c7b91fb33d058afcf678bbad06cfe",
     "grade": false,
     "grade_id": "cell-97adce029f62d842",
     "locked": true,
     "schema_version": 1,
     "solution": false
    }
   },
   "source": [
    "Why do you think is the accuracy so low? (ungraded)"
   ]
  },
  {
   "cell_type": "code",
   "execution_count": 25,
   "metadata": {
    "deletable": false,
    "nbgrader": {
     "checksum": "883cbe754994a7b3be73bf5039f051a2",
     "grade": false,
     "grade_id": "cell-a41ec0c70c3d9171",
     "locked": false,
     "schema_version": 1,
     "solution": true
    }
   },
   "outputs": [],
   "source": [
    "def fit_knn(X: np.array, y: np.array, n_neighbors: int=3) -> float:\n",
    "    \"Fit a KNN model, returning accuracy. Use code above an example.\"\n",
    "    # YOUR CODE HERE\n",
    "    knn = KNeighborsClassifier(n_neighbors=n_neighbors)\n",
    "    knn.fit(X, y)\n",
    "    y_predicted = knn.predict(X)\n",
    "    return(accuracy_score(y_predicted, y))\n",
    "#     raise NotImplementedError()"
   ]
  },
  {
   "cell_type": "code",
   "execution_count": 26,
   "metadata": {
    "deletable": false,
    "editable": false,
    "nbgrader": {
     "checksum": "85e9e71cf9108039d465cca48de8e5ed",
     "grade": true,
     "grade_id": "cell-2c15b5ce3e489b5a",
     "locked": true,
     "points": 1,
     "schema_version": 1,
     "solution": false
    }
   },
   "outputs": [],
   "source": [
    "\"\"\"\n",
    "1 point\n",
    "Test code for the 'fit_KNN' function with 2 worst features\n",
    "This cell should NOT give any errors when it is run.\n",
    "\"\"\"\n",
    "\n",
    "assert round(fit_knn(X, y, n_neighbors=3), 4) == .8533"
   ]
  },
  {
   "cell_type": "code",
   "execution_count": 27,
   "metadata": {
    "deletable": false,
    "nbgrader": {
     "checksum": "fd239e6859cfcad57f1c7e7d2c79f766",
     "grade": false,
     "grade_id": "cell-d744dae2cf569db0",
     "locked": false,
     "schema_version": 1,
     "solution": true
    }
   },
   "outputs": [],
   "source": [
    "def select_two_best_features(iris: sklearn.utils.Bunch) -> np.array:\n",
    "    \"Select the two BEST features/columns from iris and return as numpy.ndarray\"\n",
    "    # YOUR CODE HERE\n",
    "    mask = np.array([False, False, True, True])\n",
    "    return iris.data[:, mask]\n",
    "#     raise NotImplementedError()"
   ]
  },
  {
   "cell_type": "code",
   "execution_count": 28,
   "metadata": {
    "deletable": false,
    "editable": false,
    "nbgrader": {
     "checksum": "ada8222f84023845b0c60d92f083c06f",
     "grade": true,
     "grade_id": "cell-c0d084fefedea43b",
     "locked": true,
     "points": 1,
     "schema_version": 1,
     "solution": false
    }
   },
   "outputs": [],
   "source": [
    "\"\"\"\n",
    "1 point\n",
    "Test code for the 'select_two_worst_features' function. \n",
    "This cell should NOT give any errors when it is run.\n",
    "\"\"\"\n",
    "\n",
    "assert select_two_best_features(iris).shape == (150, 2)\n",
    "assert list(select_two_best_features(iris)[0]) == [1.4, 0.2]\n",
    "assert list(select_two_best_features(iris)[-1]) == [5.1, 1.8]"
   ]
  },
  {
   "cell_type": "code",
   "execution_count": 29,
   "metadata": {
    "deletable": false,
    "editable": false,
    "nbgrader": {
     "checksum": "2987c5e13bed5a432ca5f136b8a28ca0",
     "grade": false,
     "grade_id": "cell-f4996e895b4dccc2",
     "locked": true,
     "schema_version": 1,
     "solution": false
    }
   },
   "outputs": [],
   "source": [
    "X = select_two_best_features(iris)"
   ]
  },
  {
   "cell_type": "code",
   "execution_count": 30,
   "metadata": {
    "deletable": false,
    "editable": false,
    "nbgrader": {
     "checksum": "a377d2a202c283dd16a40f4dfc021f53",
     "grade": true,
     "grade_id": "cell-f57f9b9f7f82fbce",
     "locked": true,
     "points": 1,
     "schema_version": 1,
     "solution": false
    }
   },
   "outputs": [],
   "source": [
    "\"\"\"\n",
    "1 point\n",
    "Test code for the 'fit_KNN' function with 2 best features.\n",
    "This cell should NOT give any errors when it is run.\n",
    "\"\"\"\n",
    "\n",
    "assert round(fit_knn(X, y, n_neighbors=3), 4) == 0.98"
   ]
  },
  {
   "cell_type": "code",
   "execution_count": 31,
   "metadata": {
    "deletable": false,
    "editable": false,
    "nbgrader": {
     "checksum": "a02d03ac0156e4e24468392b0201e1f0",
     "grade": false,
     "grade_id": "cell-ab953e2e97a34a29",
     "locked": true,
     "schema_version": 1,
     "solution": false
    }
   },
   "outputs": [],
   "source": [
    "X = iris.data  # Use all features"
   ]
  },
  {
   "cell_type": "code",
   "execution_count": 32,
   "metadata": {
    "deletable": false,
    "editable": false,
    "nbgrader": {
     "checksum": "b5f3cf76a979e35bb59bc3316b2b71fd",
     "grade": true,
     "grade_id": "cell-8da2ab30adba2afc",
     "locked": true,
     "points": 1,
     "schema_version": 1,
     "solution": false
    }
   },
   "outputs": [],
   "source": [
    "\"\"\"\n",
    "1 point\n",
    "Test code for the 'fit_KNN' function with all features.\n",
    "This cell should NOT give any errors when it is run.\n",
    "\"\"\"\n",
    "\n",
    "assert round(fit_knn(X, y, n_neighbors=3), 4) == 0.96"
   ]
  },
  {
   "cell_type": "markdown",
   "metadata": {
    "deletable": false,
    "editable": false,
    "nbgrader": {
     "checksum": "d7728641c08276bf6fcc5d5db490a697",
     "grade": false,
     "grade_id": "cell-dccb960b12220c24",
     "locked": true,
     "schema_version": 1,
     "solution": false
    }
   },
   "source": [
    "Why do you think the accuracy go down when we have more features? (ungraded)"
   ]
  },
  {
   "cell_type": "markdown",
   "metadata": {
    "deletable": false,
    "editable": false,
    "nbgrader": {
     "checksum": "0b56cb289d50204f743b86e1e4353168",
     "grade": false,
     "grade_id": "cell-54c5316a92ea751c",
     "locked": true,
     "schema_version": 1,
     "solution": false
    }
   },
   "source": [
    "-----\n",
    "Explore how the number of neighbors impacts modeling\n",
    "-----"
   ]
  },
  {
   "cell_type": "code",
   "execution_count": 33,
   "metadata": {
    "deletable": false,
    "editable": false,
    "nbgrader": {
     "checksum": "b4ca804949956619bbc914a7b38393a8",
     "grade": false,
     "grade_id": "cell-55b376a336919412",
     "locked": true,
     "schema_version": 1,
     "solution": false
    }
   },
   "outputs": [
    {
     "name": "stdout",
     "output_type": "stream",
     "text": [
      "# of Neighbors | Model accuracy\n",
      "-----------------------------------\n",
      "      1        |    100.00%\n",
      "      2        |     98.00%\n",
      "      3        |     96.00%\n",
      "      4        |     96.00%\n",
      "      5        |     96.67%\n",
      "      6        |     97.33%\n",
      "      7        |     97.33%\n",
      "      8        |     98.00%\n",
      "      9        |     98.00%\n",
      "      10       |     98.00%\n",
      "      11       |     97.33%\n",
      "      12       |     98.00%\n",
      "      13       |     98.00%\n",
      "      14       |     98.00%\n",
      "      15       |     98.67%\n"
     ]
    }
   ],
   "source": [
    "X = iris.data  # Use all features\n",
    "\n",
    "print(f'{\"# of Neighbors\"} | {\"Model accuracy\":>8}')\n",
    "print('-'*35)\n",
    "for n_neighbors in range(1, 16):\n",
    "    accuracy = fit_knn(X, y, n_neighbors)\n",
    "    print(f'{n_neighbors:^14} | {accuracy:>10.2%}')"
   ]
  },
  {
   "cell_type": "markdown",
   "metadata": {
    "deletable": false,
    "editable": false,
    "nbgrader": {
     "checksum": "ee9ad7b196e0db1ad199af2c7deace0c",
     "grade": false,
     "grade_id": "cell-b7e0f73b2ec1b176",
     "locked": true,
     "schema_version": 1,
     "solution": false
    }
   },
   "source": [
    "Why is accuracy 100% with 1 neighbor? (ungraded)"
   ]
  },
  {
   "cell_type": "markdown",
   "metadata": {
    "deletable": false,
    "editable": false,
    "nbgrader": {
     "checksum": "c3537f41ce8ab898d2f816f4e0e81a9c",
     "grade": false,
     "grade_id": "cell-5b950c6cffbe05e3",
     "locked": true,
     "schema_version": 1,
     "solution": false
    }
   },
   "source": [
    "Why does accuracy go down then back up as number of neighbors increase? (ungraded)"
   ]
  },
  {
   "cell_type": "markdown",
   "metadata": {
    "deletable": false,
    "editable": false,
    "nbgrader": {
     "checksum": "09a2aa8aba527974e6dca328efeb0bce",
     "grade": false,
     "grade_id": "cell-ff2d070e25115ec4",
     "locked": true,
     "schema_version": 1,
     "solution": false
    }
   },
   "source": [
    "<br>\n",
    "<br> \n",
    "<br>\n",
    "\n",
    "----"
   ]
  }
 ],
 "metadata": {
  "anaconda-cloud": {},
  "kernelspec": {
   "display_name": "Python 3",
   "language": "python",
   "name": "python3"
  },
  "language_info": {
   "codemirror_mode": {
    "name": "ipython",
    "version": 3
   },
   "file_extension": ".py",
   "mimetype": "text/x-python",
   "name": "python",
   "nbconvert_exporter": "python",
   "pygments_lexer": "ipython3",
   "version": "3.6.4"
  }
 },
 "nbformat": 4,
 "nbformat_minor": 1
}
